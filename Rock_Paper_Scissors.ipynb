{
  "nbformat": 4,
  "nbformat_minor": 0,
  "metadata": {
    "colab": {
      "provenance": []
    },
    "kernelspec": {
      "name": "python3",
      "display_name": "Python 3"
    },
    "language_info": {
      "name": "python"
    }
  },
  "cells": [
    {
      "cell_type": "code",
      "execution_count": null,
      "metadata": {
        "colab": {
          "base_uri": "https://localhost:8080/"
        },
        "id": "TD46hMmQONAF",
        "outputId": "9a0fcaad-ecd0-4b9a-dda4-ff1a30100490"
      },
      "outputs": [
        {
          "output_type": "stream",
          "name": "stdout",
          "text": [
            "Welcome to Rock, Paper, Scissors!\n",
            "Instructions: Type 'rock', 'paper', or 'scissors' to make your choice.\n",
            "Type 'exit' to end the game at any time.\n",
            "Enter your choice: rock\n",
            "You chose: rock\n",
            "Computer chose: scissors\n",
            "You win!\n",
            "Score - You: 1 | Computer: 0\n",
            "Do you want to play again (y/n)? y\n",
            "Enter your choice: paper\n",
            "You chose: paper\n",
            "Computer chose: scissors\n",
            "You lose!\n",
            "Score - You: 1 | Computer: 1\n",
            "Do you want to play again (y/n)? y\n",
            "Enter your choice: scissors\n",
            "You chose: scissors\n",
            "Computer chose: rock\n",
            "You lose!\n",
            "Score - You: 1 | Computer: 2\n",
            "Do you want to play again (y/n)? y\n",
            "Enter your choice: rock\n",
            "You chose: rock\n",
            "Computer chose: rock\n",
            "It's a tie!\n",
            "Score - You: 1 | Computer: 2\n",
            "Do you want to play again (y/n)? y\n",
            "Enter your choice: rock\n",
            "You chose: rock\n",
            "Computer chose: scissors\n",
            "You win!\n",
            "Score - You: 2 | Computer: 2\n",
            "Do you want to play again (y/n)? n\n",
            "Thank you for playing!\n",
            "Final Score - You: 2 | Computer: 2\n"
          ]
        }
      ],
      "source": [
        "import random\n",
        "\n",
        "def get_computer_choice():\n",
        "    return random.choice(['rock', 'paper', 'scissors'])\n",
        "\n",
        "def determine_winner(user_choice, computer_choice):\n",
        "    if user_choice == computer_choice:\n",
        "        return 'tie'\n",
        "    elif (user_choice == 'rock' and computer_choice == 'scissors') or \\\n",
        "         (user_choice == 'scissors' and computer_choice == 'paper') or \\\n",
        "         (user_choice == 'paper' and computer_choice == 'rock'):\n",
        "        return 'win'\n",
        "    else:\n",
        "        return 'lose'\n",
        "\n",
        "def display_result(user_choice, computer_choice, result):\n",
        "    print(f\"You chose: {user_choice}\")\n",
        "    print(f\"Computer chose: {computer_choice}\")\n",
        "    if result == 'tie':\n",
        "        print(\"It's a tie!\")\n",
        "    elif result == 'win':\n",
        "        print(\"You win!\")\n",
        "    else:\n",
        "        print(\"You lose!\")\n",
        "\n",
        "def main():\n",
        "    user_score = 0\n",
        "    computer_score = 0\n",
        "\n",
        "    print(\"Welcome to Rock, Paper, Scissors!\")\n",
        "    print(\"Instructions: Type 'rock', 'paper', or 'scissors' to make your choice.\")\n",
        "    print(\"Type 'exit' to end the game at any time.\")\n",
        "\n",
        "    while True:\n",
        "        user_choice = input(\"Enter your choice: \").strip().lower()\n",
        "        if user_choice == 'exit':\n",
        "            break\n",
        "        if user_choice not in ['rock', 'paper', 'scissors']:\n",
        "            print(\"Invalid choice. Please choose 'rock', 'paper', or 'scissors'.\")\n",
        "            continue\n",
        "\n",
        "        computer_choice = get_computer_choice()\n",
        "        result = determine_winner(user_choice, computer_choice)\n",
        "        display_result(user_choice, computer_choice, result)\n",
        "\n",
        "        if result == 'win':\n",
        "            user_score += 1\n",
        "        elif result == 'lose':\n",
        "            computer_score += 1\n",
        "\n",
        "        print(f\"Score - You: {user_score} | Computer: {computer_score}\")\n",
        "\n",
        "        play_again = input(\"Do you want to play again (y/n)? \").strip().lower()\n",
        "        if play_again != 'y':\n",
        "            break\n",
        "\n",
        "    print(\"Thank you for playing!\")\n",
        "    print(f\"Final Score - You: {user_score} | Computer: {computer_score}\")\n",
        "\n",
        "if __name__ == \"__main__\":\n",
        "    main()\n"
      ]
    },
    {
      "cell_type": "code",
      "source": [],
      "metadata": {
        "id": "Jw6KYC7oON2w"
      },
      "execution_count": null,
      "outputs": []
    }
  ]
}